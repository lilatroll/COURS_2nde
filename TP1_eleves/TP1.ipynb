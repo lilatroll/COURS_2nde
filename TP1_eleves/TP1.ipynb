{
 "cells": [
  {
   "cell_type": "code",
   "execution_count": 1,
   "id": "2418ae66",
   "metadata": {},
   "outputs": [],
   "source": [
    "from outils import* # import des outils nécessaires au notebook"
   ]
  },
  {
   "cell_type": "markdown",
   "id": "3559d5e3",
   "metadata": {},
   "source": [
    "<span style=\"color:green;\"><strong> <i><u>Exercice 4</u> :</i> </strong></span><br>\n",
    "Écrivez un algorithme dont l'exécution permet de calculer le volume d'un pavé droit.<br>\n"
   ]
  },
  {
   "cell_type": "code",
   "execution_count": null,
   "id": "b703d41a",
   "metadata": {},
   "outputs": [],
   "source": [
    "#à compléter"
   ]
  },
  {
   "cell_type": "code",
   "execution_count": null,
   "id": "c4710614",
   "metadata": {},
   "outputs": [],
   "source": [
    "solution.ex4a()"
   ]
  },
  {
   "cell_type": "code",
   "execution_count": null,
   "id": "34c835eb",
   "metadata": {},
   "outputs": [],
   "source": [
    "solution.ex4b()"
   ]
  },
  {
   "cell_type": "markdown",
   "id": "0aee9658",
   "metadata": {},
   "source": [
    "<span style=\"color:green;\"><strong> <i><u>Exercice 5</u> :</i> </strong></span><br>\n",
    "Écrivez un algorithme dont l’exécution permet de calculer le volume d’un cône dont la hauteur est deux fois supérieure au rayon de la base.<br>\n"
   ]
  },
  {
   "cell_type": "code",
   "execution_count": null,
   "id": "a5f20653",
   "metadata": {},
   "outputs": [],
   "source": [
    "#à compléter"
   ]
  },
  {
   "cell_type": "code",
   "execution_count": null,
   "id": "eb6faf04",
   "metadata": {},
   "outputs": [],
   "source": [
    "solution.ex5()"
   ]
  },
  {
   "cell_type": "markdown",
   "id": "531a6f9a",
   "metadata": {},
   "source": [
    "<span style=\"color:green;\"><strong> <i><u>Exercice 6</u> :</i> </strong></span><br>\n",
    "Gwendal a écrit ci-dessous un algorithme permettant d’échanger les valeurs de deux variables dont les valeurs initiales sont saisies au clavier.<br>\n",
    "L’exécution de cet algorithme produit-elle le résultat souhaité ? Si oui, justifiez la réponse, si non modifiez l’algorithme en conséquence.<br>\n",
    "<br>\n",
    "<span style=\"font-style: italic;color:grey;\"><u>Remarque</u> :</span><br>\n",
    "N’utilisez pas pour cet exercice l’affectation simultanée de deux variables.<br>\n",
    "<img src=\"mes_images/ex6.png\" width=\"100px\"><br>\n"
   ]
  },
  {
   "cell_type": "code",
   "execution_count": null,
   "id": "c3401107",
   "metadata": {},
   "outputs": [],
   "source": [
    "#à compléter"
   ]
  },
  {
   "cell_type": "code",
   "execution_count": null,
   "id": "6cd583f0",
   "metadata": {},
   "outputs": [],
   "source": [
    "solution.ex6()"
   ]
  },
  {
   "cell_type": "markdown",
   "id": "6c359845",
   "metadata": {},
   "source": [
    "<h1> <span style=\"font-weight: bold;color:red;\">III - <u>Les fonctions informatiques</u></span> </h1><br>\n",
    "<br>\n",
    "<img src=\"mes_images/III_def.png\"><br>\n",
    "<br>\n",
    "<span style=\"color:green;\"><strong> <i><u>Exercice 7</u> :</i> </strong></span><br>\n",
    "La surface $S$ de la peau d'un adulte est donnée approximativement par la formule $S = \\frac{\\sqrt{L\\times M}}{6}$ où :<br>\n",
    "• $L$ est la taille de la personne exprimée en m,<br>\n",
    "• $M$ est sa masse exprimée en kg.<br>\n",
    "Pour programmer ce calcul, on peut définir une fonction <span style=\"font-weight: bold;\">surface</span> qui aura pour paramètres <span style=\"font-weight: bold;\">L</span> et <span style=\"font-weight: bold;\">M</span>.<br>\n",
    "Complétez l'algorithme en langage Python.<br>\n",
    "<img src=\"mes_images/ex7a.png\" width=\"700px\"><br>\n"
   ]
  },
  {
   "cell_type": "code",
   "execution_count": null,
   "id": "b54913e8",
   "metadata": {},
   "outputs": [],
   "source": [
    "# à compléter"
   ]
  },
  {
   "cell_type": "markdown",
   "id": "f3e22c70",
   "metadata": {},
   "source": [
    "Qu'obtient-on en sortie ?<br>\n"
   ]
  },
  {
   "cell_type": "code",
   "execution_count": null,
   "id": "c9a624a2",
   "metadata": {},
   "outputs": [],
   "source": [
    "solution.ex7()"
   ]
  },
  {
   "cell_type": "markdown",
   "id": "69caa1e3",
   "metadata": {},
   "source": [
    "<span style=\"color:green;\"><strong> <i><u>Exercice 8</u> :</i> </strong></span><br>\n",
    "1) Soit <span style=\"font-weight: bold;\">f</span> la fonction programmée ci-dessous en langage Python.<br>\n"
   ]
  },
  {
   "cell_type": "code",
   "execution_count": null,
   "id": "1b43772f",
   "metadata": {},
   "outputs": [],
   "source": [
    "def f(x):\n",
    "    return 3*x-1"
   ]
  },
  {
   "cell_type": "code",
   "execution_count": null,
   "id": "745b595c",
   "metadata": {},
   "outputs": [],
   "source": [
    "question.ex8_1_a()"
   ]
  },
  {
   "cell_type": "code",
   "execution_count": null,
   "id": "9d89053a",
   "metadata": {},
   "outputs": [],
   "source": [
    "question.ex8_1_b()"
   ]
  },
  {
   "cell_type": "markdown",
   "id": "78aa3eb5",
   "metadata": {},
   "source": [
    "c) Que permet de faire cette fonction ?<br>\n"
   ]
  },
  {
   "cell_type": "code",
   "execution_count": null,
   "id": "f38a312d",
   "metadata": {},
   "outputs": [],
   "source": [
    "#à compléter"
   ]
  },
  {
   "cell_type": "code",
   "execution_count": null,
   "id": "d41a23f7",
   "metadata": {},
   "outputs": [],
   "source": [
    "solution.ex8_1_c()"
   ]
  },
  {
   "cell_type": "markdown",
   "id": "e98c7685",
   "metadata": {},
   "source": [
    "2) On a programmé une nouvelle fonction nommée <span style=\"font-weight: bold;\">affine</span> ci-dessous.<br>\n"
   ]
  },
  {
   "cell_type": "code",
   "execution_count": null,
   "id": "81a6bc8f",
   "metadata": {},
   "outputs": [],
   "source": [
    "def affine(m,p,x):\n",
    "    return m*x+p\n",
    "print(affine(1,2,3))"
   ]
  },
  {
   "cell_type": "code",
   "execution_count": 2,
   "id": "81fac5fd",
   "metadata": {},
   "outputs": [
    {
     "data": {
      "text/markdown": [
       "a) Quels sont les paramètres de cette fonction ?<br>\n"
      ],
      "text/plain": [
       "<IPython.core.display.Markdown object>"
      ]
     },
     "metadata": {},
     "output_type": "display_data"
    },
    {
     "data": {
      "application/vnd.jupyter.widget-view+json": {
       "model_id": "f7fe8651d6d84ab58007c30e6a0fadf7",
       "version_major": 2,
       "version_minor": 0
      },
      "text/plain": [
       "VBox(children=(HBox(children=(HTMLMath(value='Réponse&nbsp;:'), Text(value='')), layout=Layout(align_items='ce…"
      ]
     },
     "metadata": {},
     "output_type": "display_data"
    },
    {
     "data": {
      "application/vnd.jupyter.widget-view+json": {
       "model_id": "6e3fd0410c3543dfa873d4506d5cc8a7",
       "version_major": 2,
       "version_minor": 0
      },
      "text/plain": [
       "Button(description='VALIDER', style=ButtonStyle())"
      ]
     },
     "metadata": {},
     "output_type": "display_data"
    },
    {
     "data": {
      "text/markdown": [
       "<font color=red> On a écrit <span style=\"font-weight: bold;\">affine(m, p, x)</span> : les paramètres suivent le nom de la fonction.<br>\n",
       "Il s'agit donc de <span style=\"font-weight: bold;\">m, p, x</span><br>\n",
       "</font> <br>"
      ],
      "text/plain": [
       "<IPython.core.display.Markdown object>"
      ]
     },
     "metadata": {},
     "output_type": "display_data"
    }
   ],
   "source": [
    "question.ex8_2_a()"
   ]
  },
  {
   "cell_type": "code",
   "execution_count": 3,
   "id": "e50649d5",
   "metadata": {},
   "outputs": [
    {
     "data": {
      "text/markdown": [
       "b) Quel va être l'affichage ?<br>\n"
      ],
      "text/plain": [
       "<IPython.core.display.Markdown object>"
      ]
     },
     "metadata": {},
     "output_type": "display_data"
    },
    {
     "data": {
      "application/vnd.jupyter.widget-view+json": {
       "model_id": "c32929fdc33f42a59b8fd65fb123a9e5",
       "version_major": 2,
       "version_minor": 0
      },
      "text/plain": [
       "VBox(children=(HBox(children=(HTMLMath(value='Réponse&nbsp;:'), Text(value='')), layout=Layout(align_items='ce…"
      ]
     },
     "metadata": {},
     "output_type": "display_data"
    },
    {
     "data": {
      "application/vnd.jupyter.widget-view+json": {
       "model_id": "b572005bedbc4f8a92e81dcafd116fcb",
       "version_major": 2,
       "version_minor": 0
      },
      "text/plain": [
       "Button(description='VALIDER', style=ButtonStyle())"
      ]
     },
     "metadata": {},
     "output_type": "display_data"
    }
   ],
   "source": [
    "question.ex8_2_b()"
   ]
  },
  {
   "cell_type": "markdown",
   "id": "75c5fb97",
   "metadata": {},
   "source": [
    "c) Comment peut-on afficher avec cette fonction l'image du nombre 4 par la fonction numérique qui à <span style=\"font-weight: bold;font-style: italic;\">x</span> associe <span style=\"font-weight: bold;font-style: italic;\">-5x+2</span> ?<br>\n"
   ]
  },
  {
   "cell_type": "code",
   "execution_count": null,
   "id": "8f5a9031",
   "metadata": {},
   "outputs": [],
   "source": [
    "#à compléter"
   ]
  },
  {
   "cell_type": "code",
   "execution_count": null,
   "id": "29653244",
   "metadata": {},
   "outputs": [],
   "source": [
    "solution.ex8_2_c()"
   ]
  },
  {
   "cell_type": "markdown",
   "id": "d53ffe50",
   "metadata": {},
   "source": [
    "<span style=\"font-style: italic;color:grey;\"><u>Remarque</u> :</span><br>\n",
    "• Les entrées d'une fonction se font en donnant des valeurs aux <span style=\"font-weight: bold;\">arguments</span> (ou <span style=\"font-weight: bold;\">paramètres</span>).<br>\n",
    "• On peut utiliser l'instruction  <span style=\"font-weight: bold;\">print()</span> dans une fonction. Contrairement à l'instruction <span style=\"font-weight: bold;\">return</span>, le programme continue après <span style=\"font-weight: bold;\">print()</span> alors qu'il <br>\n",
    "s'arrête après avoir rencontré <span style=\"font-weight: bold;\">return</span>.<br>\n",
    "• Une fonction peut être appelée dans un programme ou dans une autre fonction. Ainsi, les fonctions permettent d'<span style=\"font-weight: bold;\">éviter les redondances</span> et de §b;structurer <br>\n",
    "les programmes§.<br>\n",
    "<br>\n",
    "<span style=\"color:green;\"><strong> <i><u>Exercice 9</u> :</i> </strong></span><br>\n",
    "En utilisant l'une des fonctions proposées ci-desssous, complétez l'algorithme pour afficher le résultat arrondi au centième près.<br>\n",
    "<br>\n",
    "<img src=\"mes_images/ex7c.png\" width=\"750px\"><br>\n"
   ]
  },
  {
   "cell_type": "markdown",
   "id": "5a36211c",
   "metadata": {},
   "source": [
    "<span style=\"text-decoration: underline;font-weight: bold;font-style: italic;color:green;\">Exercice 10</span><span style=\"font-weight: bold;font-style: italic;\"> :</span><br>\n",
    "On considère la fonction suivante.<br>\n"
   ]
  },
  {
   "cell_type": "code",
   "execution_count": null,
   "id": "e3bb1854",
   "metadata": {},
   "outputs": [],
   "source": [
    "def speed(distance,temps):\n",
    "    return distance/temps"
   ]
  },
  {
   "cell_type": "code",
   "execution_count": null,
   "id": "5c1446a4",
   "metadata": {},
   "outputs": [],
   "source": [
    "question.ex10_a()"
   ]
  },
  {
   "cell_type": "code",
   "execution_count": null,
   "id": "917b44cd",
   "metadata": {},
   "outputs": [],
   "source": [
    "question.ex10_b()"
   ]
  },
  {
   "cell_type": "code",
   "execution_count": null,
   "id": "13fca634",
   "metadata": {},
   "outputs": [],
   "source": [
    "question.ex10_c()"
   ]
  },
  {
   "cell_type": "markdown",
   "id": "b5d1f6de",
   "metadata": {},
   "source": [
    "<span style=\"color:green;\"><strong> <i><u>Exercice 11</u> :</i> </strong></span><br>\n",
    "On considère la fonction suivante.<br>\n"
   ]
  },
  {
   "cell_type": "code",
   "execution_count": null,
   "id": "11ed7650",
   "metadata": {},
   "outputs": [],
   "source": [
    "def sale(prix,t):\n",
    "    somme=prix*(1-t/100)\n",
    "    return somme"
   ]
  },
  {
   "cell_type": "code",
   "execution_count": null,
   "id": "4f082a8e",
   "metadata": {},
   "outputs": [],
   "source": [
    "question.ex11_a()"
   ]
  },
  {
   "cell_type": "code",
   "execution_count": null,
   "id": "ab101681",
   "metadata": {},
   "outputs": [],
   "source": [
    "question.ex11_b()"
   ]
  },
  {
   "cell_type": "code",
   "execution_count": null,
   "id": "f5e2858c",
   "metadata": {},
   "outputs": [],
   "source": [
    "question.ex11_c()"
   ]
  },
  {
   "cell_type": "markdown",
   "id": "0fa20b3a",
   "metadata": {},
   "source": [
    "d) On a écrit dans la console l'instruction suivante et obtenu le résultat qui suit. <br>\n",
    "<img src=\"mes_images/ex11d.jpg\" width=\"150px\"><br>\n",
    "Interprétez le résultat obtenu.<br>\n"
   ]
  },
  {
   "cell_type": "code",
   "execution_count": null,
   "id": "2eae769b",
   "metadata": {},
   "outputs": [],
   "source": [
    "#à compléter"
   ]
  },
  {
   "cell_type": "code",
   "execution_count": null,
   "id": "81019886",
   "metadata": {},
   "outputs": [],
   "source": [
    "solution.ex11_d()"
   ]
  },
  {
   "cell_type": "markdown",
   "id": "7637446c",
   "metadata": {},
   "source": [
    "<span style=\"color:green;\"><strong> <i><u>Exercice 12</u> :</i> </strong></span><br>\n",
    "On considère la fonction suivante.<br>\n"
   ]
  },
  {
   "cell_type": "code",
   "execution_count": null,
   "id": "d2eab0ff",
   "metadata": {},
   "outputs": [],
   "source": [
    "def parite(n):\n",
    "    return n%2==0"
   ]
  },
  {
   "cell_type": "markdown",
   "id": "1fdfeb41",
   "metadata": {},
   "source": [
    "On a écrit dans la console les instructions suivantes et obtenu les résultats qui suivent.<br>\n",
    "<img src=\"mes_images/ex12.jpg\" width=\"140px\"><br>\n"
   ]
  },
  {
   "cell_type": "code",
   "execution_count": null,
   "id": "c8a53118",
   "metadata": {},
   "outputs": [],
   "source": [
    "question.ex12_a()"
   ]
  },
  {
   "cell_type": "code",
   "execution_count": null,
   "id": "2d55c0fb",
   "metadata": {},
   "outputs": [],
   "source": [
    "question.ex12_b()"
   ]
  },
  {
   "cell_type": "code",
   "execution_count": null,
   "id": "47fc82ad",
   "metadata": {},
   "outputs": [],
   "source": [
    "question.ex12_c()"
   ]
  },
  {
   "cell_type": "markdown",
   "id": "d36c3101",
   "metadata": {},
   "source": [
    "d) Quel est le rôle de cette fonction ?<br>\n"
   ]
  },
  {
   "cell_type": "code",
   "execution_count": null,
   "id": "078daa5d",
   "metadata": {},
   "outputs": [],
   "source": [
    "#à compléter"
   ]
  },
  {
   "cell_type": "code",
   "execution_count": null,
   "id": "8663a7f7",
   "metadata": {},
   "outputs": [],
   "source": [
    "solution.ex12_d()"
   ]
  },
  {
   "cell_type": "markdown",
   "id": "b70c5b4a",
   "metadata": {},
   "source": [
    "<span style=\"color:green;\"><strong> <i><u>Exercice 13</u> :</i> </strong></span><br>\n",
    "Rédigez une fonction renvoyant le périmètre et l'aire d'un disque de rayon donné.<br>\n"
   ]
  },
  {
   "cell_type": "code",
   "execution_count": null,
   "id": "259ac4a5",
   "metadata": {},
   "outputs": [],
   "source": [
    "#à compléter"
   ]
  },
  {
   "cell_type": "code",
   "execution_count": 4,
   "id": "4218d938",
   "metadata": {},
   "outputs": [
    {
     "data": {
      "application/vnd.jupyter.widget-view+json": {
       "model_id": "daf8474435bb43f7bcc4c5214e1861e5",
       "version_major": 2,
       "version_minor": 0
      },
      "text/plain": [
       "VBox(children=(Button(description='INDICATION', style=ButtonStyle()),))"
      ]
     },
     "metadata": {},
     "output_type": "display_data"
    },
    {
     "data": {
      "text/markdown": [
       "$Périmètre = 2\\times \\pi\\times r$ <br>\n",
       "$Aire = \\pi\\times r^2$<br>\n"
      ],
      "text/plain": [
       "<IPython.core.display.Markdown object>"
      ]
     },
     "metadata": {},
     "output_type": "display_data"
    }
   ],
   "source": [
    "solution.ex13_a()"
   ]
  },
  {
   "cell_type": "code",
   "execution_count": null,
   "id": "5b457511",
   "metadata": {},
   "outputs": [],
   "source": [
    "solution.ex13_b()"
   ]
  }
 ],
 "metadata": {
  "kernelspec": {
   "display_name": "Python 3",
   "language": "python",
   "name": "python3"
  },
  "language_info": {
   "codemirror_mode": {
    "name": "ipython",
    "version": 3
   },
   "file_extension": ".py",
   "mimetype": "text/x-python",
   "name": "python",
   "nbconvert_exporter": "python",
   "pygments_lexer": "ipython3",
   "version": "3.7.0"
  }
 },
 "nbformat": 4,
 "nbformat_minor": 5
}
