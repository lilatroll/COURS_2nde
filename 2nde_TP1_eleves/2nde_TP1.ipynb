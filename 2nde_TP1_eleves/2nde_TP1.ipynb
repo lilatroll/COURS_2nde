{
 "cells": [
  {
   "cell_type": "code",
   "execution_count": null,
   "id": "7691b90b",
   "metadata": {},
   "outputs": [],
   "source": [
    "from outils import* # import des outils nécessaires au notebook"
   ]
  },
  {
   "cell_type": "markdown",
   "id": "a58f79a4",
   "metadata": {},
   "source": [
    "<span style=\"color:green;\"><strong> <i><u>Exercice 5</u> :</i> </strong></span><br>\n",
    "Écrivez un algorithme dont l'exécution permet de calculer le volume d'un pavé droit.<br>\n"
   ]
  },
  {
   "cell_type": "code",
   "execution_count": null,
   "id": "b87c1661",
   "metadata": {},
   "outputs": [],
   "source": [
    "#à compléter"
   ]
  },
  {
   "cell_type": "code",
   "execution_count": null,
   "id": "09ddb546",
   "metadata": {},
   "outputs": [],
   "source": [
    "solution.ex5a()"
   ]
  },
  {
   "cell_type": "code",
   "execution_count": null,
   "id": "cc6c5953",
   "metadata": {},
   "outputs": [],
   "source": [
    "solution.ex5b()"
   ]
  },
  {
   "cell_type": "markdown",
   "id": "5428c6db",
   "metadata": {},
   "source": [
    "<span style=\"color:green;\"><strong> <i><u>Exercice 6</u> :</i> </strong></span><br>\n",
    "Écrivez un algorithme dont l’exécution permet de calculer le volume d’un cône dont la hauteur est deux fois supérieure au rayon de la base.<br>\n"
   ]
  },
  {
   "cell_type": "code",
   "execution_count": null,
   "id": "fc413350",
   "metadata": {},
   "outputs": [],
   "source": [
    "#à compléter"
   ]
  },
  {
   "cell_type": "code",
   "execution_count": null,
   "id": "e6b4fb50",
   "metadata": {},
   "outputs": [],
   "source": [
    "solution.ex6()"
   ]
  },
  {
   "cell_type": "markdown",
   "id": "ef4bd3a0",
   "metadata": {},
   "source": [
    "<span style=\"color:green;\"><strong> <i><u>Exercice 7</u> :</i> </strong></span><br>\n",
    "Gwendal a écrit ci-dessous un algorithme permettant d’échanger les valeurs de deux variables dont les valeurs initiales sont saisies au clavier.<br>\n",
    "L’exécution de cet algorithme produit-elle le résultat souhaité ? Si oui, justifiez la réponse, si non modifiez l’algorithme en conséquence.<br>\n",
    "<br>\n",
    "<span style=\"font-style: italic;color:grey;\"><u>Remarque</u> :</span><br>\n",
    "N’utilisez pas pour cet exercice l’affectation simultanée de deux variables.<br>\n",
    "<img src=\"mes_images/ex7.png\" width=\"100px\"><br>\n"
   ]
  },
  {
   "cell_type": "code",
   "execution_count": null,
   "id": "a2bb281c",
   "metadata": {},
   "outputs": [],
   "source": [
    "#à compléter"
   ]
  },
  {
   "cell_type": "code",
   "execution_count": null,
   "id": "ace940e5",
   "metadata": {},
   "outputs": [],
   "source": [
    "solution.ex7()"
   ]
  },
  {
   "cell_type": "markdown",
   "id": "27c2e9fb",
   "metadata": {},
   "source": [
    "<h1> <span style=\"font-weight: bold;color:red;\">III - <u>Les fonctions informatiques</u></span> </h1><br>\n",
    "<br>\n",
    "<img src=\"mes_images/III_def.png\"><br>\n",
    "<br>\n",
    "<span style=\"color:green;\"><strong> <i><u>Exercice 8</u> :</i> </strong></span><br>\n",
    "La surface $S$ de la peau d'un adulte est donnée approximativement par la formule $S = \\frac{\\sqrt{L\\times M}}{6}$ où :<br>\n",
    "• $L$ est la taille de la personne exprimée en m,<br>\n",
    "• $M$ est sa masse exprimée en kg.<br>\n",
    "Pour programmer ce calcul, on peut définir une fonction <span style=\"font-weight: bold;\">surface</span> qui aura pour paramètres <span style=\"font-weight: bold;\">L</span> et <span style=\"font-weight: bold;\">M</span>.<br>\n",
    "Complétez l'algorithme en langage Python.<br>\n",
    "<img src=\"mes_images/ex8a.png\" width=\"700px\"><br>\n"
   ]
  },
  {
   "cell_type": "code",
   "execution_count": null,
   "id": "5fa97586",
   "metadata": {},
   "outputs": [],
   "source": [
    "# à compléter"
   ]
  },
  {
   "cell_type": "markdown",
   "id": "1c11f6e3",
   "metadata": {},
   "source": [
    "Qu'obtient-on en sortie ?<br>\n"
   ]
  },
  {
   "cell_type": "code",
   "execution_count": null,
   "id": "f4a5946f",
   "metadata": {},
   "outputs": [],
   "source": [
    "solution.ex7()"
   ]
  },
  {
   "cell_type": "markdown",
   "id": "11a2af1d",
   "metadata": {},
   "source": [
    "<span style=\"color:green;\"><strong> <i><u>Exercice 9</u> :</i> </strong></span><br>\n",
    "1) Soit <span style=\"font-weight: bold;\">f</span> la fonction programmée ci-dessous en langage Python.<br>\n"
   ]
  },
  {
   "cell_type": "code",
   "execution_count": null,
   "id": "5d477c06",
   "metadata": {},
   "outputs": [],
   "source": [
    "def f(x):\n",
    "    return 3*x-1"
   ]
  },
  {
   "cell_type": "code",
   "execution_count": null,
   "id": "fd30562d",
   "metadata": {},
   "outputs": [],
   "source": [
    "question.ex9_1_a()"
   ]
  },
  {
   "cell_type": "code",
   "execution_count": null,
   "id": "7a4254f2",
   "metadata": {},
   "outputs": [],
   "source": [
    "question.ex9_1_b()"
   ]
  },
  {
   "cell_type": "markdown",
   "id": "748d0014",
   "metadata": {},
   "source": [
    "c) Que permet de faire cette fonction ?<br>\n"
   ]
  },
  {
   "cell_type": "code",
   "execution_count": null,
   "id": "57ecce79",
   "metadata": {},
   "outputs": [],
   "source": [
    "#à compléter"
   ]
  },
  {
   "cell_type": "code",
   "execution_count": null,
   "id": "e24a91df",
   "metadata": {},
   "outputs": [],
   "source": [
    "solution.ex9_1_c()"
   ]
  },
  {
   "cell_type": "markdown",
   "id": "ae435216",
   "metadata": {},
   "source": [
    "2) On a programmé une nouvelle fonction nommée <span style=\"font-weight: bold;\">affine</span> ci-dessous.<br>\n"
   ]
  },
  {
   "cell_type": "code",
   "execution_count": null,
   "id": "1875ef1c",
   "metadata": {},
   "outputs": [],
   "source": [
    "def affine(m,p,x):\n",
    "    return m*x+p\n",
    "print(affine(1,2,3))"
   ]
  },
  {
   "cell_type": "code",
   "execution_count": null,
   "id": "9fa85920",
   "metadata": {},
   "outputs": [],
   "source": [
    "question.ex8_2_a()"
   ]
  },
  {
   "cell_type": "code",
   "execution_count": null,
   "id": "67ebd58f",
   "metadata": {},
   "outputs": [],
   "source": [
    "question.ex9_2_b()"
   ]
  },
  {
   "cell_type": "markdown",
   "id": "b138c1c3",
   "metadata": {},
   "source": [
    "c) Comment peut-on afficher avec cette fonction l'image du nombre 4 par la fonction numérique qui à <span style=\"font-weight: bold;font-style: italic;\">x</span> associe <span style=\"font-weight: bold;font-style: italic;\">-5x+2</span> ?<br>\n"
   ]
  },
  {
   "cell_type": "code",
   "execution_count": null,
   "id": "34282c5e",
   "metadata": {},
   "outputs": [],
   "source": [
    "#à compléter"
   ]
  },
  {
   "cell_type": "code",
   "execution_count": null,
   "id": "b193a178",
   "metadata": {},
   "outputs": [],
   "source": [
    "solution.ex9_2_c()"
   ]
  },
  {
   "cell_type": "markdown",
   "id": "4e932b96",
   "metadata": {},
   "source": [
    "<span style=\"font-style: italic;color:grey;\"><u>Remarque</u> :</span><br>\n",
    "• Les entrées d'une fonction se font en donnant des valeurs aux <span style=\"font-weight: bold;\">arguments</span> (ou <span style=\"font-weight: bold;\">paramètres</span>).<br>\n",
    "• On peut utiliser l'instruction  <span style=\"font-weight: bold;\">print()</span> dans une fonction. Contrairement à l'instruction <span style=\"font-weight: bold;\">return</span>, le programme continue après <span style=\"font-weight: bold;\">print()</span> alors qu'il <br>\n",
    "s'arrête après avoir rencontré <span style=\"font-weight: bold;\">return</span>.<br>\n",
    "• Une fonction peut être appelée dans un programme ou dans une autre fonction. Ainsi, les fonctions permettent d'<span style=\"font-weight: bold;\">éviter les redondances</span> et de §b;structurer <br>\n",
    "les programmes§.<br>\n",
    "<br>\n",
    "<span style=\"color:green;\"><strong> <i><u>Exercice 8 </u> (suite) :</i> </strong></span><br>\n",
    "En utilisant l'une des fonctions proposées ci-desssous, complétez l'algorithme pour afficher le résultat arrondi au centième près.<br>\n",
    "<br>\n",
    "<img src=\"mes_images/ex8c.png\" width=\"750px\"><br>\n"
   ]
  },
  {
   "cell_type": "markdown",
   "id": "60a68a0f",
   "metadata": {},
   "source": [
    "<span style=\"text-decoration: underline;font-weight: bold;font-style: italic;color:green;\">Exercice 10</span><span style=\"font-weight: bold;font-style: italic;\"> :</span><br>\n",
    "On considère la fonction suivante.<br>\n"
   ]
  },
  {
   "cell_type": "code",
   "execution_count": null,
   "id": "2f70fc95",
   "metadata": {},
   "outputs": [],
   "source": [
    "def speed(distance,temps):\n",
    "    return distance/temps"
   ]
  },
  {
   "cell_type": "code",
   "execution_count": null,
   "id": "89677650",
   "metadata": {},
   "outputs": [],
   "source": [
    "question.ex10_a()"
   ]
  },
  {
   "cell_type": "code",
   "execution_count": null,
   "id": "b927bbdf",
   "metadata": {},
   "outputs": [],
   "source": [
    "question.ex10_b()"
   ]
  },
  {
   "cell_type": "code",
   "execution_count": null,
   "id": "b4182bd1",
   "metadata": {},
   "outputs": [],
   "source": [
    "question.ex10_c()"
   ]
  },
  {
   "cell_type": "markdown",
   "id": "1fd3c587",
   "metadata": {},
   "source": [
    "<span style=\"color:green;\"><strong> <i><u>Exercice 11</u> :</i> </strong></span><br>\n",
    "On considère la fonction suivante.<br>\n"
   ]
  },
  {
   "cell_type": "code",
   "execution_count": null,
   "id": "d040d215",
   "metadata": {},
   "outputs": [],
   "source": [
    "def sale(prix,t):\n",
    "    somme=prix*(1-t/100)\n",
    "    return somme"
   ]
  },
  {
   "cell_type": "code",
   "execution_count": null,
   "id": "692615da",
   "metadata": {},
   "outputs": [],
   "source": [
    "question.ex11_a()"
   ]
  },
  {
   "cell_type": "code",
   "execution_count": null,
   "id": "20c48c03",
   "metadata": {},
   "outputs": [],
   "source": [
    "question.ex11_b()"
   ]
  },
  {
   "cell_type": "code",
   "execution_count": null,
   "id": "b1d897bd",
   "metadata": {},
   "outputs": [],
   "source": [
    "question.ex11_c()"
   ]
  },
  {
   "cell_type": "markdown",
   "id": "ed2753b7",
   "metadata": {},
   "source": [
    "d) On a écrit dans la console l'instruction suivante et obtenu le résultat qui suit. <br>\n",
    "<img src=\"mes_images/ex11d.jpg\" width=\"150px\"><br>\n",
    "Interprétez le résultat obtenu.<br>\n"
   ]
  },
  {
   "cell_type": "code",
   "execution_count": null,
   "id": "22aa9eec",
   "metadata": {},
   "outputs": [],
   "source": [
    "#à compléter"
   ]
  },
  {
   "cell_type": "code",
   "execution_count": null,
   "id": "8ef10cfa",
   "metadata": {},
   "outputs": [],
   "source": [
    "solution.ex11_d()"
   ]
  },
  {
   "cell_type": "markdown",
   "id": "adf639f1",
   "metadata": {},
   "source": [
    "<span style=\"color:green;\"><strong> <i><u>Exercice 12</u> :</i> </strong></span><br>\n",
    "On considère la fonction suivante.<br>\n"
   ]
  },
  {
   "cell_type": "code",
   "execution_count": null,
   "id": "27b50af5",
   "metadata": {},
   "outputs": [],
   "source": [
    "def parite(n):\n",
    "    return n%2==0"
   ]
  },
  {
   "cell_type": "markdown",
   "id": "ed29f155",
   "metadata": {},
   "source": [
    "On a écrit dans la console les instructions suivantes et obtenu les résultats qui suivent.<br>\n",
    "<img src=\"mes_images/ex12.jpg\" width=\"140px\"><br>\n"
   ]
  },
  {
   "cell_type": "code",
   "execution_count": null,
   "id": "0dc0bd2a",
   "metadata": {},
   "outputs": [],
   "source": [
    "question.ex12_a()"
   ]
  },
  {
   "cell_type": "code",
   "execution_count": null,
   "id": "1350c053",
   "metadata": {},
   "outputs": [],
   "source": [
    "question.ex12_b()"
   ]
  },
  {
   "cell_type": "code",
   "execution_count": null,
   "id": "f3feaf95",
   "metadata": {},
   "outputs": [],
   "source": [
    "question.ex12_c()"
   ]
  },
  {
   "cell_type": "markdown",
   "id": "002b992d",
   "metadata": {},
   "source": [
    "d) Quel est le rôle de cette fonction ?<br>\n"
   ]
  },
  {
   "cell_type": "code",
   "execution_count": null,
   "id": "e0937252",
   "metadata": {},
   "outputs": [],
   "source": [
    "#à compléter"
   ]
  },
  {
   "cell_type": "code",
   "execution_count": null,
   "id": "6d768aa6",
   "metadata": {},
   "outputs": [],
   "source": [
    "solution.ex12_d()"
   ]
  },
  {
   "cell_type": "markdown",
   "id": "43e3e6a1",
   "metadata": {},
   "source": [
    "<span style=\"color:green;\"><strong> <i><u>Exercice 13</u> :</i> </strong></span><br>\n",
    "Rédigez une fonction renvoyant le périmètre et l'aire d'un disque de rayon donné.<br>\n"
   ]
  },
  {
   "cell_type": "code",
   "execution_count": null,
   "id": "25e55330",
   "metadata": {},
   "outputs": [],
   "source": [
    "#à compléter"
   ]
  },
  {
   "cell_type": "code",
   "execution_count": null,
   "id": "f8c0b9e3",
   "metadata": {},
   "outputs": [],
   "source": [
    "solution.ex13_a()"
   ]
  },
  {
   "cell_type": "code",
   "execution_count": null,
   "id": "300179cf",
   "metadata": {},
   "outputs": [],
   "source": [
    "solution.ex13_b()"
   ]
  }
 ],
 "metadata": {},
 "nbformat": 4,
 "nbformat_minor": 5
}
